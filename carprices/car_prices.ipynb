{
 "cells": [
  {
   "cell_type": "code",
   "execution_count": 1,
   "id": "fe0352f9-0350-40ff-a490-2384e9e3ea52",
   "metadata": {},
   "outputs": [],
   "source": [
    "import pandas as pd\n",
    "from sklearn.preprocessing import StandardScaler, PolynomialFeatures\n",
    "from sklearn.model_selection import train_test_split\n",
    "from sklearn.linear_model import LinearRegression\n",
    "from sklearn.pipeline import make_pipeline"
   ]
  },
  {
   "cell_type": "code",
   "execution_count": 2,
   "id": "7b3cd80e-2cdb-4e14-93d6-edf401e6fb5b",
   "metadata": {},
   "outputs": [],
   "source": [
    "# Load the dataset\n",
    "file_path = 'carprices.csv'\n",
    "df = pd.read_csv(file_path)"
   ]
  },
  {
   "cell_type": "code",
   "execution_count": 3,
   "id": "f8b78a66-9cb5-4d93-980f-af6f1a2acf76",
   "metadata": {},
   "outputs": [],
   "source": [
    "# Define features and target variable\n",
    "features = ['Mileage', 'Age(yrs)']\n",
    "target = 'Sell Price($)'"
   ]
  },
  {
   "cell_type": "code",
   "execution_count": 4,
   "id": "4df7d42a-7fcb-4ef6-8397-ff83c4688a80",
   "metadata": {},
   "outputs": [],
   "source": [
    "# Split the data into training and testing sets\n",
    "test_size = 0.2\n",
    "random_state = 10\n",
    "x = df[features]\n",
    "y = df[target]\n",
    "train_x, test_x, train_y, test_y = train_test_split(x, y, test_size=test_size, random_state=random_state)"
   ]
  },
  {
   "cell_type": "code",
   "execution_count": 5,
   "id": "6fcafd91-63e6-4d01-892d-5d3ec396dc03",
   "metadata": {},
   "outputs": [
    {
     "name": "stdout",
     "output_type": "stream",
     "text": [
      "Linear Regression Test Score: 0.7332339593090137\n"
     ]
    }
   ],
   "source": [
    "# Initialize and train the linear regression model\n",
    "reg = LinearRegression()\n",
    "reg.fit(train_x, train_y)\n",
    "\n",
    "# Evaluate the model's performance on the test set\n",
    "\n",
    "test_score = reg.score(test_x, test_y)\n",
    "print(f\"Linear Regression Test Score: {test_score}\")"
   ]
  },
  {
   "cell_type": "code",
   "execution_count": 6,
   "id": "298c8039-0263-413a-9215-3eb3a24b7780",
   "metadata": {},
   "outputs": [
    {
     "name": "stdout",
     "output_type": "stream",
     "text": [
      "Polynomial Regression Test Score: 0.736728035362035\n"
     ]
    }
   ],
   "source": [
    "# Create polynomial features and scale the data\n",
    "poly_model = make_pipeline(StandardScaler(), PolynomialFeatures(degree=2), LinearRegression())\n",
    "\n",
    "# Train the model with polynomial features\n",
    "poly_model.fit(train_x, train_y)\n",
    "\n",
    "# Evaluate the model's performance on the test set with polynomial features\n",
    "poly_test_score = poly_model.score(test_x, test_y)\n",
    "print(f\"Polynomial Regression Test Score: {poly_test_score}\")"
   ]
  },
  {
   "cell_type": "code",
   "execution_count": 7,
   "id": "206d6d2b-cf43-4c12-95f1-fccceb2bd50a",
   "metadata": {},
   "outputs": [
    {
     "name": "stdout",
     "output_type": "stream",
     "text": [
      "Polynomial Regression Test Score (Degree 3): 0.7679424931548251\n"
     ]
    }
   ],
   "source": [
    "# Create polynomial features of degree 3 and train the model\n",
    "poly_model = make_pipeline(PolynomialFeatures(degree=3), LinearRegression())\n",
    "poly_model.fit(train_x, train_y)\n",
    "\n",
    "# Evaluate the model's performance on the test set\n",
    "test_score_poly_degree_3 = poly_model.score(test_x, test_y)\n",
    "print(f\"Polynomial Regression Test Score (Degree 3): {test_score_poly_degree_3}\")"
   ]
  },
  {
   "cell_type": "code",
   "execution_count": null,
   "id": "58706ded-1f09-46c1-aabd-f2b2fb3d90f4",
   "metadata": {},
   "outputs": [],
   "source": []
  }
 ],
 "metadata": {
  "kernelspec": {
   "display_name": "Anaconda",
   "language": "python",
   "name": "base"
  },
  "language_info": {
   "codemirror_mode": {
    "name": "ipython",
    "version": 3
   },
   "file_extension": ".py",
   "mimetype": "text/x-python",
   "name": "python",
   "nbconvert_exporter": "python",
   "pygments_lexer": "ipython3",
   "version": "3.11.7"
  }
 },
 "nbformat": 4,
 "nbformat_minor": 5
}
